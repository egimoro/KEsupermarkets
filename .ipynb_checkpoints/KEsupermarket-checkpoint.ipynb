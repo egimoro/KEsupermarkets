{
 "cells": [
  {
   "cell_type": "code",
   "execution_count": 11,
   "metadata": {},
   "outputs": [
    {
     "name": "stdout",
     "output_type": "stream",
     "text": [
      "[('acacia', 1, 1, 90), ('acacia', 2, 1, 70), ('acacia', 6, 2, 270), ('acacia', 8, 2, 137), ('nakumatt', 33, 13, 5611), ('tuskys', 44, 6, 55), ('chandarana', 14, 2, 7955), ('nakumatt', 6, 1, 780), ('nakumatt', 8, 3, 235), ('nakumatt', 9, 1, 13005), ('nakumatt', 6, 1, 431), ('uchumui', 5, 4, 1000), ('naivas', 1, 2, 242), ('naivas', 2, 3, 4926), ('naivas', 3, 1, 5439), ('naivas', 6, 1, 5439), ('naivas', 7, 3, 8110), ('naivas', 5, 2, 221), ('naivas', 8, 1, 584), ('karrymart', 10, 2, 850), ('karrymart', 23, 1, 90)]\n"
     ]
    }
   ],
   "source": [
    "\n",
    "import os\n",
    "import pandas as pd\n",
    "import matplotlib.pyplot as plt\n",
    "\n",
    "\n",
    "supermarkets = ['acacia', 'acacia', 'acacia', 'acacia', 'nakumatt', 'tuskys',\n",
    "                'chandarana', 'nakumatt', 'nakumatt', 'nakumatt', 'nakumatt',\n",
    "                'uchumui', 'naivas', 'naivas', 'naivas', 'naivas',\n",
    "                'naivas', 'naivas', 'naivas', 'karrymart', 'karrymart']\n",
    "\n",
    "no_of_items = [1, 2, 6, 8, 33, 44, 14, 6, 8, 9, 6, 5, 1,\n",
    "               2, 3, 6, 7, 5, 8, 10, 23]\n",
    "\n",
    "variation = [1, 1, 2, 2, 13, 6, 2, 1, 3, 1, 1, 4, 2, 3,\n",
    "             1, 1, 3, 2, 1, 2, 1, 2, 2, 6]\n",
    "\n",
    "total = [90, 70, 270, 137, 5611, 55, 7955, 780, 235, 13005, 431, 1000, 242,\n",
    "         4926, 5439, 5439, 8110, 221, 584, 850, 90]\n",
    "\n",
    "KEsupermarket = list(zip(supermarkets, no_of_items, variation, total))\n",
    "\n",
    "print(KEsupermarket)\n"
   ]
  },
  {
   "cell_type": "code",
   "execution_count": 12,
   "metadata": {},
   "outputs": [],
   "source": [
    "\n",
    "df = pd.DataFrame(data=KEsupermarket, columns=['supermarkets', 'no_of_items',\n",
    "                  'variation', 'total'])\n",
    "\n",
    "print(df)\n"
   ]
  },
  {
   "cell_type": "code",
   "execution_count": 13,
   "metadata": {},
   "outputs": [],
   "source": [
    "\n",
    "Sorted = df.sort_values(['supermarkets'], ascending=False)\n",
    "\n",
    "Sorted.head(1)\n"
   ]
  },
  {
   "cell_type": "code",
   "execution_count": null,
   "metadata": {},
   "outputs": [],
   "source": []
  }
 ],
 "metadata": {
  "file_extension": ".py",
  "kernelspec": {
   "display_name": "Python 3",
   "language": "python",
   "name": "python3"
  },
  "language_info": {
   "codemirror_mode": {
    "name": "ipython",
    "version": 3
   },
   "file_extension": ".py",
   "mimetype": "text/x-python",
   "name": "python",
   "nbconvert_exporter": "python",
   "pygments_lexer": "ipython3",
   "version": "3.8.1"
  },
  "mimetype": "text/x-python",
  "name": "python",
  "npconvert_exporter": "python",
  "pygments_lexer": "ipython3",
  "version": 3
 },
 "nbformat": 4,
 "nbformat_minor": 2
}